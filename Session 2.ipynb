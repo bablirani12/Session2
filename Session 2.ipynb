{
 "cells": [
  {
   "cell_type": "markdown",
   "id": "c9587c47",
   "metadata": {},
   "source": [
    "# Phython Basics"
   ]
  },
  {
   "cell_type": "code",
   "execution_count": 1,
   "id": "db1a392e",
   "metadata": {
    "scrolled": true
   },
   "outputs": [
    {
     "name": "stdout",
     "output_type": "stream",
     "text": [
      "Enter any country nameindia\n"
     ]
    }
   ],
   "source": [
    "country=input(\"Enter any country name\")"
   ]
  },
  {
   "cell_type": "code",
   "execution_count": 2,
   "id": "ab528cc2",
   "metadata": {},
   "outputs": [
    {
     "data": {
      "text/plain": [
       "'india'"
      ]
     },
     "execution_count": 2,
     "metadata": {},
     "output_type": "execute_result"
    }
   ],
   "source": [
    "country"
   ]
  },
  {
   "cell_type": "code",
   "execution_count": 3,
   "id": "8eae3876",
   "metadata": {},
   "outputs": [
    {
     "data": {
      "text/plain": [
       "str"
      ]
     },
     "execution_count": 3,
     "metadata": {},
     "output_type": "execute_result"
    }
   ],
   "source": [
    "type(country)"
   ]
  },
  {
   "cell_type": "code",
   "execution_count": 4,
   "id": "774b714d",
   "metadata": {},
   "outputs": [
    {
     "name": "stdout",
     "output_type": "stream",
     "text": [
      "Enter any delicious food namemaggi\n"
     ]
    },
    {
     "data": {
      "text/plain": [
       "'maggi'"
      ]
     },
     "execution_count": 4,
     "metadata": {},
     "output_type": "execute_result"
    }
   ],
   "source": [
    "foodname=input(\"Enter any delicious food name\")\n",
    "\n",
    "foodname"
   ]
  },
  {
   "cell_type": "code",
   "execution_count": 5,
   "id": "50f04f0c",
   "metadata": {},
   "outputs": [
    {
     "name": "stdout",
     "output_type": "stream",
     "text": [
      "Enter any hollywood movie namehappy\n"
     ]
    },
    {
     "data": {
      "text/plain": [
       "'happy'"
      ]
     },
     "execution_count": 5,
     "metadata": {},
     "output_type": "execute_result"
    }
   ],
   "source": [
    "Moviename=input(\"Enter any hollywood movie name\")\n",
    "Moviename"
   ]
  },
  {
   "cell_type": "code",
   "execution_count": 6,
   "id": "94c53ba4",
   "metadata": {},
   "outputs": [
    {
     "data": {
      "text/plain": [
       "str"
      ]
     },
     "execution_count": 6,
     "metadata": {},
     "output_type": "execute_result"
    }
   ],
   "source": [
    "type(Moviename)"
   ]
  },
  {
   "cell_type": "code",
   "execution_count": 7,
   "id": "a45b799a",
   "metadata": {},
   "outputs": [
    {
     "name": "stdout",
     "output_type": "stream",
     "text": [
      "any foodnamenbjbk\n"
     ]
    },
    {
     "data": {
      "text/plain": [
       "'nbjbk'"
      ]
     },
     "execution_count": 7,
     "metadata": {},
     "output_type": "execute_result"
    }
   ],
   "source": [
    "foodname=input(\"any foodname\")\n",
    "foodname"
   ]
  },
  {
   "cell_type": "code",
   "execution_count": 8,
   "id": "6290cf34",
   "metadata": {},
   "outputs": [
    {
     "data": {
      "text/plain": [
       "str"
      ]
     },
     "execution_count": 8,
     "metadata": {},
     "output_type": "execute_result"
    }
   ],
   "source": [
    "type(foodname)"
   ]
  },
  {
   "cell_type": "code",
   "execution_count": 9,
   "id": "6d7afec0",
   "metadata": {},
   "outputs": [
    {
     "name": "stdout",
     "output_type": "stream",
     "text": [
      "enter any numberbkjb\n"
     ]
    },
    {
     "data": {
      "text/plain": [
       "'bkjb'"
      ]
     },
     "execution_count": 9,
     "metadata": {},
     "output_type": "execute_result"
    }
   ],
   "source": [
    "number1=input(\"enter any number\")\n",
    "number1"
   ]
  },
  {
   "cell_type": "code",
   "execution_count": 10,
   "id": "0a090ed4",
   "metadata": {},
   "outputs": [
    {
     "data": {
      "text/plain": [
       "str"
      ]
     },
     "execution_count": 10,
     "metadata": {},
     "output_type": "execute_result"
    }
   ],
   "source": [
    "type(number1)"
   ]
  },
  {
   "cell_type": "code",
   "execution_count": 11,
   "id": "8331b665",
   "metadata": {},
   "outputs": [
    {
     "name": "stdout",
     "output_type": "stream",
     "text": [
      "enter any number45\n"
     ]
    },
    {
     "data": {
      "text/plain": [
       "'45'"
      ]
     },
     "execution_count": 11,
     "metadata": {},
     "output_type": "execute_result"
    }
   ],
   "source": [
    "number2=input(\"enter any number\")\n",
    "number2"
   ]
  },
  {
   "cell_type": "code",
   "execution_count": 12,
   "id": "20935958",
   "metadata": {},
   "outputs": [
    {
     "data": {
      "text/plain": [
       "str"
      ]
     },
     "execution_count": 12,
     "metadata": {},
     "output_type": "execute_result"
    }
   ],
   "source": [
    "type(number2)"
   ]
  },
  {
   "cell_type": "markdown",
   "id": "81ddb738",
   "metadata": {},
   "source": [
    "Adding the two user input values"
   ]
  },
  {
   "cell_type": "code",
   "execution_count": 13,
   "id": "4b61719b",
   "metadata": {},
   "outputs": [
    {
     "data": {
      "text/plain": [
       "'bkjb45'"
      ]
     },
     "execution_count": 13,
     "metadata": {},
     "output_type": "execute_result"
    }
   ],
   "source": [
    "number1+number2"
   ]
  },
  {
   "cell_type": "markdown",
   "id": "58016c48",
   "metadata": {},
   "source": [
    "'87100' string concatianation happened"
   ]
  },
  {
   "cell_type": "markdown",
   "id": "1ecb80e3",
   "metadata": {},
   "source": [
    "For addition lets do Type casting"
   ]
  },
  {
   "cell_type": "code",
   "execution_count": 14,
   "id": "7fc2b576",
   "metadata": {},
   "outputs": [
    {
     "data": {
      "text/plain": [
       "int"
      ]
     },
     "execution_count": 14,
     "metadata": {},
     "output_type": "execute_result"
    }
   ],
   "source": [
    "p=58\n",
    "type(p)"
   ]
  },
  {
   "cell_type": "code",
   "execution_count": 15,
   "id": "0de746bd",
   "metadata": {},
   "outputs": [
    {
     "data": {
      "text/plain": [
       "58.0"
      ]
     },
     "execution_count": 15,
     "metadata": {},
     "output_type": "execute_result"
    }
   ],
   "source": [
    "pf=float(p)\n",
    "pf"
   ]
  },
  {
   "cell_type": "code",
   "execution_count": 16,
   "id": "f7485abf",
   "metadata": {},
   "outputs": [
    {
     "data": {
      "text/plain": [
       "float"
      ]
     },
     "execution_count": 16,
     "metadata": {},
     "output_type": "execute_result"
    }
   ],
   "source": [
    "type(pf)"
   ]
  },
  {
   "cell_type": "code",
   "execution_count": 17,
   "id": "75b9b3b3",
   "metadata": {},
   "outputs": [
    {
     "data": {
      "text/plain": [
       "float"
      ]
     },
     "execution_count": 17,
     "metadata": {},
     "output_type": "execute_result"
    }
   ],
   "source": [
    "x=39.58\n",
    "type(x)"
   ]
  },
  {
   "cell_type": "code",
   "execution_count": 18,
   "id": "03e99d8c",
   "metadata": {},
   "outputs": [
    {
     "data": {
      "text/plain": [
       "39"
      ]
     },
     "execution_count": 18,
     "metadata": {},
     "output_type": "execute_result"
    }
   ],
   "source": [
    "xt=int(x)\n",
    "xt"
   ]
  },
  {
   "cell_type": "code",
   "execution_count": 19,
   "id": "5b270005",
   "metadata": {},
   "outputs": [
    {
     "data": {
      "text/plain": [
       "int"
      ]
     },
     "execution_count": 19,
     "metadata": {},
     "output_type": "execute_result"
    }
   ],
   "source": [
    "type(xt)"
   ]
  },
  {
   "cell_type": "code",
   "execution_count": 21,
   "id": "c5358f7d",
   "metadata": {
    "scrolled": true
   },
   "outputs": [
    {
     "name": "stdout",
     "output_type": "stream",
     "text": [
      "enter any number334\n"
     ]
    }
   ],
   "source": [
    "xv=int(input(\"enter any number\"))"
   ]
  },
  {
   "cell_type": "code",
   "execution_count": 22,
   "id": "2b23d627",
   "metadata": {},
   "outputs": [
    {
     "data": {
      "text/plain": [
       "334"
      ]
     },
     "execution_count": 22,
     "metadata": {},
     "output_type": "execute_result"
    }
   ],
   "source": [
    "xv"
   ]
  },
  {
   "cell_type": "code",
   "execution_count": 23,
   "id": "35891f3b",
   "metadata": {},
   "outputs": [
    {
     "data": {
      "text/plain": [
       "int"
      ]
     },
     "execution_count": 23,
     "metadata": {},
     "output_type": "execute_result"
    }
   ],
   "source": [
    "type(xv)"
   ]
  },
  {
   "cell_type": "code",
   "execution_count": 24,
   "id": "2e1a3251",
   "metadata": {},
   "outputs": [
    {
     "name": "stdout",
     "output_type": "stream",
     "text": [
      "enter any number 35454\n"
     ]
    }
   ],
   "source": [
    "number1=int(input(\"enter any number\"))"
   ]
  },
  {
   "cell_type": "code",
   "execution_count": 25,
   "id": "2ca17bfa",
   "metadata": {},
   "outputs": [
    {
     "data": {
      "text/plain": [
       "35454"
      ]
     },
     "execution_count": 25,
     "metadata": {},
     "output_type": "execute_result"
    }
   ],
   "source": [
    "number1"
   ]
  },
  {
   "cell_type": "code",
   "execution_count": 26,
   "id": "8c165328",
   "metadata": {},
   "outputs": [
    {
     "name": "stdout",
     "output_type": "stream",
     "text": [
      "enter any number445\n"
     ]
    }
   ],
   "source": [
    "number2=int(input(\"enter any number\"))"
   ]
  },
  {
   "cell_type": "code",
   "execution_count": 27,
   "id": "48e7cca4",
   "metadata": {},
   "outputs": [
    {
     "data": {
      "text/plain": [
       "445"
      ]
     },
     "execution_count": 27,
     "metadata": {},
     "output_type": "execute_result"
    }
   ],
   "source": [
    "number2"
   ]
  },
  {
   "cell_type": "code",
   "execution_count": 28,
   "id": "b6c2b161",
   "metadata": {},
   "outputs": [
    {
     "data": {
      "text/plain": [
       "35899"
      ]
     },
     "execution_count": 28,
     "metadata": {},
     "output_type": "execute_result"
    }
   ],
   "source": [
    "number1+number2"
   ]
  },
  {
   "cell_type": "markdown",
   "id": "263c52ab",
   "metadata": {},
   "source": [
    "# Area of rectangle (Static and Dynamic)"
   ]
  },
  {
   "cell_type": "markdown",
   "id": "c4d1d67a",
   "metadata": {},
   "source": [
    "Statics Example"
   ]
  },
  {
   "cell_type": "code",
   "execution_count": 30,
   "id": "6369913d",
   "metadata": {},
   "outputs": [
    {
     "name": "stdout",
     "output_type": "stream",
     "text": [
      "6\n",
      "area of rectangle= 6\n"
     ]
    }
   ],
   "source": [
    "l=2\n",
    "b=3\n",
    "area=l*b\n",
    "print(area)\n",
    "print(\"area of rectangle=\", area)"
   ]
  },
  {
   "cell_type": "markdown",
   "id": "1c516f4d",
   "metadata": {},
   "source": [
    "Dynamic example"
   ]
  },
  {
   "cell_type": "code",
   "execution_count": 35,
   "id": "977ec37d",
   "metadata": {
    "scrolled": true
   },
   "outputs": [
    {
     "name": "stdout",
     "output_type": "stream",
     "text": [
      "enter any length350\n",
      "length, 350\n",
      "enter any breadth67\n",
      "breadth= 67\n",
      "Area of rectangle= 23450\n"
     ]
    }
   ],
   "source": [
    "l=int(input(\"enter any length\"))\n",
    "print(\"length,\", l)\n",
    "b=int(input(\"enter any breadth\"))\n",
    "print(\"breadth=\", b)\n",
    "areaofrectangle=l*b\n",
    "print(\"Area of rectangle=\", areaofrectangle)"
   ]
  },
  {
   "cell_type": "markdown",
   "id": "5b5bdbe8",
   "metadata": {},
   "source": [
    "area of circle"
   ]
  },
  {
   "cell_type": "code",
   "execution_count": 40,
   "id": "31696905",
   "metadata": {},
   "outputs": [
    {
     "name": "stdout",
     "output_type": "stream",
     "text": [
      "enter any number3.14\n",
      "pi= 3.14\n",
      "enter value of radius67\n",
      "radius= 67.0\n",
      "Area of circle= 14095.460000000001\n",
      "Area of circle= 14095.46\n"
     ]
    }
   ],
   "source": [
    "pi=float(input(\"enter any number\"))\n",
    "print(\"pi=\", pi)\n",
    "radius=float(input(\"enter value of radius\"))\n",
    "print(\"radius=\", radius)\n",
    "areaofcircle=pi*(radius**2)\n",
    "print(\"Area of circle=\", areaofcircle)\n",
    "print(\"Area of circle=\", round(areaofcircle,2))"
   ]
  },
  {
   "cell_type": "code",
   "execution_count": 41,
   "id": "a043d6f8",
   "metadata": {
    "scrolled": false
   },
   "outputs": [
    {
     "data": {
      "text/plain": [
       "14095.46"
      ]
     },
     "execution_count": 41,
     "metadata": {},
     "output_type": "execute_result"
    }
   ],
   "source": [
    "round(14095.460000000001,2)"
   ]
  },
  {
   "cell_type": "code",
   "execution_count": 39,
   "id": "759f3e99",
   "metadata": {},
   "outputs": [
    {
     "data": {
      "text/plain": [
       "76548.908"
      ]
     },
     "execution_count": 39,
     "metadata": {},
     "output_type": "execute_result"
    }
   ],
   "source": [
    "round(76548.90765432346,3)"
   ]
  },
  {
   "cell_type": "markdown",
   "id": "a1c52b0c",
   "metadata": {},
   "source": [
    "Square root"
   ]
  },
  {
   "cell_type": "code",
   "execution_count": 42,
   "id": "1db7f4df",
   "metadata": {},
   "outputs": [
    {
     "name": "stdout",
     "output_type": "stream",
     "text": [
      "enter any value64\n",
      "The square root of 64 is 8.0\n"
     ]
    }
   ],
   "source": [
    "s=int(input(\"enter any value\"))\n",
    "p=s**(1/2)\n",
    "print(\"The square root of\", s, \"is\", p)"
   ]
  },
  {
   "cell_type": "markdown",
   "id": "ea2dd46a",
   "metadata": {},
   "source": [
    "# Data Structures"
   ]
  },
  {
   "cell_type": "markdown",
   "id": "bbb2141a",
   "metadata": {},
   "source": [
    "List"
   ]
  },
  {
   "cell_type": "code",
   "execution_count": 1,
   "id": "b446aa7f",
   "metadata": {},
   "outputs": [],
   "source": [
    "list1=[1,2,3,4,5]"
   ]
  },
  {
   "cell_type": "code",
   "execution_count": 3,
   "id": "3eced228",
   "metadata": {},
   "outputs": [
    {
     "name": "stdout",
     "output_type": "stream",
     "text": [
      "[1, 2, 3, 4, 5]\n"
     ]
    }
   ],
   "source": [
    "print (list1)"
   ]
  },
  {
   "cell_type": "code",
   "execution_count": 5,
   "id": "0510f853",
   "metadata": {},
   "outputs": [],
   "source": [
    "list2=[11,12,13,14,15]"
   ]
  },
  {
   "cell_type": "code",
   "execution_count": 6,
   "id": "98acfdbf",
   "metadata": {},
   "outputs": [
    {
     "data": {
      "text/plain": [
       "[11, 12, 13, 14, 15]"
      ]
     },
     "execution_count": 6,
     "metadata": {},
     "output_type": "execute_result"
    }
   ],
   "source": [
    "list2"
   ]
  },
  {
   "cell_type": "code",
   "execution_count": 7,
   "id": "404a67af",
   "metadata": {},
   "outputs": [],
   "source": [
    "list3=[10,20,30,40,50]"
   ]
  },
  {
   "cell_type": "code",
   "execution_count": 8,
   "id": "bbd4973a",
   "metadata": {},
   "outputs": [
    {
     "data": {
      "text/plain": [
       "[10, 20, 30, 40, 50]"
      ]
     },
     "execution_count": 8,
     "metadata": {},
     "output_type": "execute_result"
    }
   ],
   "source": [
    "list3"
   ]
  },
  {
   "cell_type": "code",
   "execution_count": 9,
   "id": "bba3ed92",
   "metadata": {},
   "outputs": [],
   "source": [
    "list4=[98.4,66.9,34.6,87.0,55.76]"
   ]
  },
  {
   "cell_type": "code",
   "execution_count": 10,
   "id": "3cbc742f",
   "metadata": {},
   "outputs": [
    {
     "data": {
      "text/plain": [
       "[98.4, 66.9, 34.6, 87.0, 55.76]"
      ]
     },
     "execution_count": 10,
     "metadata": {},
     "output_type": "execute_result"
    }
   ],
   "source": [
    "list4"
   ]
  },
  {
   "cell_type": "code",
   "execution_count": 11,
   "id": "d89b601f",
   "metadata": {},
   "outputs": [],
   "source": [
    "list5=['A','B','C','D']"
   ]
  },
  {
   "cell_type": "code",
   "execution_count": 12,
   "id": "915502be",
   "metadata": {},
   "outputs": [
    {
     "data": {
      "text/plain": [
       "['A', 'B', 'C', 'D']"
      ]
     },
     "execution_count": 12,
     "metadata": {},
     "output_type": "execute_result"
    }
   ],
   "source": [
    "list5"
   ]
  },
  {
   "cell_type": "code",
   "execution_count": 22,
   "id": "b033e129",
   "metadata": {},
   "outputs": [
    {
     "data": {
      "text/plain": [
       "'A'"
      ]
     },
     "execution_count": 22,
     "metadata": {},
     "output_type": "execute_result"
    }
   ],
   "source": [
    "list5[0]"
   ]
  },
  {
   "cell_type": "code",
   "execution_count": 23,
   "id": "6b2e0b38",
   "metadata": {},
   "outputs": [
    {
     "data": {
      "text/plain": [
       "'B'"
      ]
     },
     "execution_count": 23,
     "metadata": {},
     "output_type": "execute_result"
    }
   ],
   "source": [
    "list5[1]"
   ]
  },
  {
   "cell_type": "code",
   "execution_count": 24,
   "id": "b98653fc",
   "metadata": {},
   "outputs": [
    {
     "data": {
      "text/plain": [
       "'C'"
      ]
     },
     "execution_count": 24,
     "metadata": {},
     "output_type": "execute_result"
    }
   ],
   "source": [
    "list5[2]"
   ]
  },
  {
   "cell_type": "code",
   "execution_count": 26,
   "id": "0ab337fc",
   "metadata": {},
   "outputs": [
    {
     "data": {
      "text/plain": [
       "'D'"
      ]
     },
     "execution_count": 26,
     "metadata": {},
     "output_type": "execute_result"
    }
   ],
   "source": [
    "list5[3]"
   ]
  },
  {
   "cell_type": "code",
   "execution_count": 13,
   "id": "c9b42250",
   "metadata": {},
   "outputs": [],
   "source": [
    "list6=['MATRIX', 'AVENGERS', 'TURTLES']"
   ]
  },
  {
   "cell_type": "code",
   "execution_count": 14,
   "id": "3a47d1ab",
   "metadata": {},
   "outputs": [
    {
     "data": {
      "text/plain": [
       "['MATRIX', 'AVENGERS', 'TURTLES']"
      ]
     },
     "execution_count": 14,
     "metadata": {},
     "output_type": "execute_result"
    }
   ],
   "source": [
    "list6"
   ]
  },
  {
   "cell_type": "code",
   "execution_count": 17,
   "id": "707c8c03",
   "metadata": {},
   "outputs": [],
   "source": [
    "list7=[64,78,90,'B', 'BIRDS', 87.90,'TRUE','FALSE']"
   ]
  },
  {
   "cell_type": "code",
   "execution_count": 18,
   "id": "4ebc7964",
   "metadata": {},
   "outputs": [
    {
     "data": {
      "text/plain": [
       "[64, 78, 90, 'B', 'BIRDS', 87.9, 'TRUE', 'FALSE']"
      ]
     },
     "execution_count": 18,
     "metadata": {},
     "output_type": "execute_result"
    }
   ],
   "source": [
    "list7"
   ]
  },
  {
   "cell_type": "code",
   "execution_count": 19,
   "id": "8ee4cb7d",
   "metadata": {},
   "outputs": [
    {
     "data": {
      "text/plain": [
       "'MATRIX'"
      ]
     },
     "execution_count": 19,
     "metadata": {},
     "output_type": "execute_result"
    }
   ],
   "source": [
    "list6[0]"
   ]
  },
  {
   "cell_type": "code",
   "execution_count": 20,
   "id": "ea532a6c",
   "metadata": {},
   "outputs": [
    {
     "data": {
      "text/plain": [
       "'AVENGERS'"
      ]
     },
     "execution_count": 20,
     "metadata": {},
     "output_type": "execute_result"
    }
   ],
   "source": [
    "list6[1]"
   ]
  },
  {
   "cell_type": "code",
   "execution_count": 21,
   "id": "d1e3a3c7",
   "metadata": {},
   "outputs": [
    {
     "data": {
      "text/plain": [
       "'TURTLES'"
      ]
     },
     "execution_count": 21,
     "metadata": {},
     "output_type": "execute_result"
    }
   ],
   "source": [
    "list6[2]"
   ]
  },
  {
   "cell_type": "code",
   "execution_count": 27,
   "id": "86030748",
   "metadata": {},
   "outputs": [],
   "source": [
    "complist=['laptop', 'tablet', 'mouse', 'printer', 'keyboard']"
   ]
  },
  {
   "cell_type": "code",
   "execution_count": 28,
   "id": "f8ca6d78",
   "metadata": {},
   "outputs": [
    {
     "data": {
      "text/plain": [
       "['laptop', 'tablet', 'mouse', 'printer', 'keyboard']"
      ]
     },
     "execution_count": 28,
     "metadata": {},
     "output_type": "execute_result"
    }
   ],
   "source": [
    "complist"
   ]
  },
  {
   "cell_type": "code",
   "execution_count": 30,
   "id": "80646aa7",
   "metadata": {},
   "outputs": [
    {
     "data": {
      "text/plain": [
       "'laptop'"
      ]
     },
     "execution_count": 30,
     "metadata": {},
     "output_type": "execute_result"
    }
   ],
   "source": [
    "complist[0]"
   ]
  },
  {
   "cell_type": "code",
   "execution_count": 31,
   "id": "b4839520",
   "metadata": {},
   "outputs": [
    {
     "data": {
      "text/plain": [
       "'tablet'"
      ]
     },
     "execution_count": 31,
     "metadata": {},
     "output_type": "execute_result"
    }
   ],
   "source": [
    "complist[1]"
   ]
  },
  {
   "cell_type": "code",
   "execution_count": 32,
   "id": "a7e58fa5",
   "metadata": {},
   "outputs": [
    {
     "data": {
      "text/plain": [
       "'keyboard'"
      ]
     },
     "execution_count": 32,
     "metadata": {},
     "output_type": "execute_result"
    }
   ],
   "source": [
    "complist[4]"
   ]
  },
  {
   "cell_type": "code",
   "execution_count": 33,
   "id": "dce7eef2",
   "metadata": {},
   "outputs": [
    {
     "data": {
      "text/plain": [
       "'printer'"
      ]
     },
     "execution_count": 33,
     "metadata": {},
     "output_type": "execute_result"
    }
   ],
   "source": [
    "complist[3]"
   ]
  },
  {
   "cell_type": "markdown",
   "id": "d64772c9",
   "metadata": {},
   "source": [
    "Slicing"
   ]
  },
  {
   "cell_type": "markdown",
   "id": "e66180f9",
   "metadata": {},
   "source": [
    "complist[startindex:endindex]"
   ]
  },
  {
   "cell_type": "code",
   "execution_count": 34,
   "id": "0892699a",
   "metadata": {},
   "outputs": [
    {
     "data": {
      "text/plain": [
       "['laptop']"
      ]
     },
     "execution_count": 34,
     "metadata": {},
     "output_type": "execute_result"
    }
   ],
   "source": [
    "complist[0:1]"
   ]
  },
  {
   "cell_type": "code",
   "execution_count": 35,
   "id": "5092fc7c",
   "metadata": {},
   "outputs": [
    {
     "data": {
      "text/plain": [
       "['laptop', 'tablet', 'mouse']"
      ]
     },
     "execution_count": 35,
     "metadata": {},
     "output_type": "execute_result"
    }
   ],
   "source": [
    "complist[0:3]"
   ]
  },
  {
   "cell_type": "code",
   "execution_count": 37,
   "id": "48014eb6",
   "metadata": {},
   "outputs": [
    {
     "data": {
      "text/plain": [
       "['tablet', 'mouse', 'printer']"
      ]
     },
     "execution_count": 37,
     "metadata": {},
     "output_type": "execute_result"
    }
   ],
   "source": [
    "complist[1:4]"
   ]
  },
  {
   "cell_type": "code",
   "execution_count": 38,
   "id": "9da8ad69",
   "metadata": {},
   "outputs": [
    {
     "data": {
      "text/plain": [
       "['mouse']"
      ]
     },
     "execution_count": 38,
     "metadata": {},
     "output_type": "execute_result"
    }
   ],
   "source": [
    "complist[2:3]"
   ]
  },
  {
   "cell_type": "code",
   "execution_count": 39,
   "id": "47e55fa1",
   "metadata": {},
   "outputs": [
    {
     "data": {
      "text/plain": [
       "['mouse', 'printer', 'keyboard']"
      ]
     },
     "execution_count": 39,
     "metadata": {},
     "output_type": "execute_result"
    }
   ],
   "source": [
    "complist[2:5]"
   ]
  },
  {
   "cell_type": "code",
   "execution_count": 40,
   "id": "936fd1f2",
   "metadata": {},
   "outputs": [
    {
     "data": {
      "text/plain": [
       "['laptop', 'tablet', 'mouse', 'printer', 'keyboard']"
      ]
     },
     "execution_count": 40,
     "metadata": {},
     "output_type": "execute_result"
    }
   ],
   "source": [
    "complist[:]"
   ]
  },
  {
   "cell_type": "code",
   "execution_count": 41,
   "id": "dc0431c5",
   "metadata": {},
   "outputs": [
    {
     "data": {
      "text/plain": [
       "['laptop', 'tablet', 'mouse', 'printer', 'keyboard']"
      ]
     },
     "execution_count": 41,
     "metadata": {},
     "output_type": "execute_result"
    }
   ],
   "source": [
    "complist[0:]"
   ]
  },
  {
   "cell_type": "code",
   "execution_count": 42,
   "id": "291a8f25",
   "metadata": {},
   "outputs": [
    {
     "data": {
      "text/plain": [
       "['laptop', 'tablet', 'mouse', 'printer', 'keyboard']"
      ]
     },
     "execution_count": 42,
     "metadata": {},
     "output_type": "execute_result"
    }
   ],
   "source": [
    "complist[:5]"
   ]
  },
  {
   "cell_type": "markdown",
   "id": "f4fb38db",
   "metadata": {},
   "source": [
    "Negative Indexing"
   ]
  },
  {
   "cell_type": "code",
   "execution_count": 43,
   "id": "032b1826",
   "metadata": {},
   "outputs": [
    {
     "data": {
      "text/plain": [
       "'keyboard'"
      ]
     },
     "execution_count": 43,
     "metadata": {},
     "output_type": "execute_result"
    }
   ],
   "source": [
    "complist[-1]"
   ]
  },
  {
   "cell_type": "code",
   "execution_count": 44,
   "id": "718ae58f",
   "metadata": {},
   "outputs": [
    {
     "data": {
      "text/plain": [
       "'tablet'"
      ]
     },
     "execution_count": 44,
     "metadata": {},
     "output_type": "execute_result"
    }
   ],
   "source": [
    "complist[-4]"
   ]
  },
  {
   "cell_type": "code",
   "execution_count": 45,
   "id": "6bc13da2",
   "metadata": {},
   "outputs": [
    {
     "data": {
      "text/plain": [
       "['laptop', 'tablet', 'mouse', 'printer', 'keyboard']"
      ]
     },
     "execution_count": 45,
     "metadata": {},
     "output_type": "execute_result"
    }
   ],
   "source": [
    "complist"
   ]
  },
  {
   "cell_type": "code",
   "execution_count": 46,
   "id": "1cf21243",
   "metadata": {},
   "outputs": [
    {
     "data": {
      "text/plain": [
       "['tablet', 'mouse', 'printer']"
      ]
     },
     "execution_count": 46,
     "metadata": {},
     "output_type": "execute_result"
    }
   ],
   "source": [
    "complist[-4:-1]"
   ]
  },
  {
   "cell_type": "code",
   "execution_count": 47,
   "id": "3be02d39",
   "metadata": {},
   "outputs": [
    {
     "data": {
      "text/plain": [
       "['mouse']"
      ]
     },
     "execution_count": 47,
     "metadata": {},
     "output_type": "execute_result"
    }
   ],
   "source": [
    "complist[-3:-2]"
   ]
  },
  {
   "cell_type": "code",
   "execution_count": 49,
   "id": "bd80c7ec",
   "metadata": {},
   "outputs": [
    {
     "data": {
      "text/plain": [
       "['mouse', 'printer']"
      ]
     },
     "execution_count": 49,
     "metadata": {},
     "output_type": "execute_result"
    }
   ],
   "source": [
    "complist[-3:-1]"
   ]
  },
  {
   "cell_type": "code",
   "execution_count": 51,
   "id": "53ad07b4",
   "metadata": {},
   "outputs": [
    {
     "data": {
      "text/plain": [
       "['laptop', 'tablet', 'mouse', 'printer']"
      ]
     },
     "execution_count": 51,
     "metadata": {},
     "output_type": "execute_result"
    }
   ],
   "source": [
    "complist[:-1]"
   ]
  },
  {
   "cell_type": "code",
   "execution_count": 52,
   "id": "e1c5387b",
   "metadata": {},
   "outputs": [
    {
     "data": {
      "text/plain": [
       "['laptop', 'tablet', 'mouse', 'printer', 'keyboard']"
      ]
     },
     "execution_count": 52,
     "metadata": {},
     "output_type": "execute_result"
    }
   ],
   "source": [
    "complist[-5:]"
   ]
  }
 ],
 "metadata": {
  "kernelspec": {
   "display_name": "Python 3 (ipykernel)",
   "language": "python",
   "name": "python3"
  },
  "language_info": {
   "codemirror_mode": {
    "name": "ipython",
    "version": 3
   },
   "file_extension": ".py",
   "mimetype": "text/x-python",
   "name": "python",
   "nbconvert_exporter": "python",
   "pygments_lexer": "ipython3",
   "version": "3.9.7"
  }
 },
 "nbformat": 4,
 "nbformat_minor": 5
}
